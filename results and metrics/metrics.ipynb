{
 "metadata": {
  "language_info": {
   "codemirror_mode": {
    "name": "ipython",
    "version": 3
   },
   "file_extension": ".py",
   "mimetype": "text/x-python",
   "name": "python",
   "nbconvert_exporter": "python",
   "pygments_lexer": "ipython3",
   "version": "3.8.2-final"
  },
  "orig_nbformat": 2,
  "kernelspec": {
   "name": "python38264bitfc289f9f398341fdb52c1b2d6b9afaca",
   "display_name": "Python 3.8.2 64-bit"
  }
 },
 "nbformat": 4,
 "nbformat_minor": 2,
 "cells": [
  {
   "cell_type": "code",
   "execution_count": 25,
   "metadata": {},
   "outputs": [
    {
     "output_type": "stream",
     "name": "stdout",
     "text": [
      "[748270122, 948297407, 207689641, 293926462, 527275812, 0]\n[65.37450499187665, 83.1259704839207, 26.80032030870025, 27.273844529033852, 42.92747639665176, 0.0]\n[11, 9, 2, 4, 4, 0]\n[70, 91, 38, 28, 52, 0]\n"
     ]
    }
   ],
   "source": [
    "total = [0,0,0,0,0,0]\n",
    "avg = [0,0,0,0,0,0]\n",
    "minval = [1000, 1000, 1000, 1000, 1000, 1000]\n",
    "maxval = [0,0,0,0,0,0]\n",
    "filename = \"results1.txt\"\n",
    "with open(filename) as results:\n",
    "    for line in results:\n",
    "        content = line.split()\n",
    "        for i in range(0,6):\n",
    "            total[i] = total[i] + int(content[i + 3])\n",
    "            avg[i] = (avg[i] + int(content[i + 3]))/2\n",
    "            minval[i] = min(minval[i], int(content[i + 3]))\n",
    "            maxval[i] = max(maxval[i], int(content[i + 3]))\n",
    "    print(total)\n",
    "    print(avg)\n",
    "    print(minval)\n",
    "    print(maxval)\n",
    "results.close()"
   ]
  },
  {
   "cell_type": "code",
   "execution_count": 26,
   "metadata": {},
   "outputs": [
    {
     "output_type": "stream",
     "name": "stdout",
     "text": [
      "[439762819, 770315090, 286362533, 168550040, 556437494, 278218747]\n[37.10066046284281, 60.46832309261481, 33.18257400120385, 14.97757492949886, 44.92747639665176, 22.46373819832588]\n[6, 9, 4, 3, 6, 3]\n[41, 80, 39, 16, 54, 27]\n"
     ]
    }
   ],
   "source": [
    "total = [0,0,0,0,0,0]\n",
    "avg = [0,0,0,0,0,0]\n",
    "minval = [1000, 1000, 1000, 1000, 1000, 1000]\n",
    "maxval = [0,0,0,0,0,0]\n",
    "filename = \"results2.txt\"\n",
    "with open(filename) as results:\n",
    "    for line in results:\n",
    "        content = line.split()\n",
    "        for i in range(0,6):\n",
    "            total[i] = total[i] + int(content[i + 3])\n",
    "            avg[i] = (avg[i] + int(content[i + 3]))/2\n",
    "            minval[i] = min(minval[i], int(content[i + 3]))\n",
    "            maxval[i] = max(maxval[i], int(content[i + 3]))\n",
    "    print(total)\n",
    "    print(avg)\n",
    "    print(minval)\n",
    "    print(maxval)\n",
    "results.close()"
   ]
  },
  {
   "cell_type": "code",
   "execution_count": 27,
   "metadata": {},
   "outputs": [
    {
     "output_type": "stream",
     "name": "stdout",
     "text": [
      "[529174293, 0, 115329414, 157738517, 165859254, 523747458]\n[23.295226986308123, 0.0, 0.8421668968744669, 11.829566885364327, 6.8442513533871026, 20.916622197567182]\n[6, 0, 0, 2, 1, 3]\n[51, 0, 24, 28, 13, 41]\n"
     ]
    }
   ],
   "source": [
    "total = [0,0,0,0,0,0]\n",
    "avg = [0,0,0,0,0,0]\n",
    "minval = [1000, 1000, 1000, 1000, 1000, 1000]\n",
    "maxval = [0,0,0,0,0,0]\n",
    "filename = \"results3.txt\"\n",
    "with open(filename) as results:\n",
    "    for line in results:\n",
    "        content = line.split()\n",
    "        for i in range(0,6):\n",
    "            total[i] = total[i] + int(content[i + 3])\n",
    "            avg[i] = (avg[i] + int(content[i + 3]))/2\n",
    "            minval[i] = min(minval[i], int(content[i + 3]))\n",
    "            maxval[i] = max(maxval[i], int(content[i + 3]))\n",
    "    print(total)\n",
    "    print(avg)\n",
    "    print(minval)\n",
    "    print(maxval)\n",
    "results.close()"
   ]
  },
  {
   "cell_type": "code",
   "execution_count": null,
   "metadata": {},
   "outputs": [],
   "source": [
    "total = [0,0,0,0]\n",
    "avg = [0,0,0,0]\n",
    "minval = [1000, 1000, 1000, 1000]\n",
    "maxval = [0,0,0,0]\n",
    "filename = \"secondresults4.txt\"\n",
    "with open(filename) as results:\n",
    "    for line in results:\n",
    "        content = line.split()\n",
    "        for i in range(0,4):\n",
    "            total[i] = total[i] + int(content[i + 3])\n",
    "            avg[i] = (avg[i] + int(content[i + 3]))/2\n",
    "            minval[i] = min(minval[i], int(content[i + 3]))\n",
    "            maxval[i] = max(maxval[i], int(content[i + 3]))\n",
    "    print(total)\n",
    "    print(avg)\n",
    "    print(minval)\n",
    "    print(maxval)\n",
    "results.close()\n"
   ]
  },
  {
   "cell_type": "code",
   "execution_count": null,
   "metadata": {},
   "outputs": [],
   "source": []
  }
 ]
}