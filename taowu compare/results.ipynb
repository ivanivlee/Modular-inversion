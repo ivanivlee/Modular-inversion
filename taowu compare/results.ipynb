{
 "metadata": {
  "language_info": {
   "codemirror_mode": {
    "name": "ipython",
    "version": 3
   },
   "file_extension": ".py",
   "mimetype": "text/x-python",
   "name": "python",
   "nbconvert_exporter": "python",
   "pygments_lexer": "ipython3",
   "version": "3.8.5-final"
  },
  "orig_nbformat": 2,
  "kernelspec": {
   "name": "python38264bitfc289f9f398341fdb52c1b2d6b9afaca",
   "display_name": "Python 3.8.2 64-bit",
   "language": "python"
  }
 },
 "nbformat": 4,
 "nbformat_minor": 2,
 "cells": [
  {
   "cell_type": "code",
   "execution_count": 17,
   "metadata": {},
   "outputs": [
    {
     "output_type": "stream",
     "name": "stdout",
     "text": [
      "[0.33777223896323905, 17.62063630367541, 29.17932854840086, 0.0, 0.0, 17.67125281485303, 5.876021353519585, 5.809095280453898, 5.98613618087955, 1798.0740364225614, 1725.8394618921457]\n[0, 3, 0, 0, 0, 1, 0, 0, 1, 1, 1, 1000, 1000]\n[24, 46, 60, 0, 0, 44, 12, 12, 20, 4096, 4096]\n"
     ]
    }
   ],
   "source": [
    "#a, r, p, (r*a)%p, add ,sub, shift, even, poz, loop, fbr, sbr, tbr, Rmu, Rmv;\n",
    "#total = [0,0,0,0,0,0,0,0,0,0,0]\n",
    "avg = [0,0,0,0,0,0,0,0,0,0,0]\n",
    "minval = [1000, 1000, 1000, 1000,1000, 1000, 1000, 1000,1000, 1000, 1000, 1000,1000]\n",
    "maxval = [0,0,0,0,0,0,0,0,0,0,0]\n",
    "filename = \"scripts/LS.txt\"\n",
    "with open(filename) as results:\n",
    "    for line in results:\n",
    "        content = line.split()\n",
    "        if (content[3] != '1'):\n",
    "                print(content[0], content[2], content[3])\n",
    "        for i in range(0,11):\n",
    "            #total[i] = total[i] + int(content[i + 4])\n",
    "            avg[i] = (avg[i] + int(content[i + 4]))/2\n",
    "            minval[i] = min(minval[i], int(content[i + 4]))\n",
    "            maxval[i] = max(maxval[i], int(content[i + 4]))\n",
    "    #print(total)\n",
    "    print(avg)\n",
    "    print(minval)\n",
    "    print(maxval)\n",
    "results.close()\n",
    "#todo:\n",
    "#if everything was correct\n",
    "#statistics\n",
    "[0.33777223896323905, 17.62063630367541, 29.17932854840086, 0.0, 0.0, 17.67125281485303, 5.876021353519585, 5.809095280453898, 5.98613618087955, 1798.0740364225614, 1725.8394618921457]\n",
    "[0, 3, 0, 0, 0, 1, 0, 0, 1, 1, 1, 1000, 1000]\n",
    "[24, 46, 60, 0, 0, 44, 12, 12, 20, 4096, 4096]"
   ]
  },
  {
   "cell_type": "code",
   "execution_count": 1,
   "metadata": {
    "tags": []
   },
   "outputs": [
    {
     "output_type": "stream",
     "name": "stdout",
     "text": [
      "[6.64758662311138, 26.490151770146987, 29.24625480086256, 11.685116633973482, 0.0, 17.67125281485303, 5.876021353519585, 5.809095280453898, 5.98613618087955, 5.876021353519585, 5.876021532915596]\n[0, 4, 0, 0, 0, 1, 0, 0, 1, 0, 0, 1000, 1000]\n[43, 72, 60, 24, 0, 44, 12, 12, 20, 12, 12]\n"
     ]
    }
   ],
   "source": [
    "avg = [0,0,0,0,0,0,0,0,0,0,0]\n",
    "minval = [1000, 1000, 1000, 1000,1000, 1000, 1000, 1000,1000, 1000, 1000, 1000,1000]\n",
    "maxval = [0,0,0,0,0,0,0,0,0,0,0]\n",
    "filename = \"scripts/TW.txt\"\n",
    "with open(filename) as results:\n",
    "    for line in results:\n",
    "        content = line.split()\n",
    "        if (content[3] != '1'):\n",
    "                print(content[0], content[2], content[3])\n",
    "        for i in range(0,11):\n",
    "            #total[i] = total[i] + int(content[i + 4])\n",
    "            avg[i] = (avg[i] + int(content[i + 4]))/2\n",
    "            minval[i] = min(minval[i], int(content[i + 4]))\n",
    "            maxval[i] = max(maxval[i], int(content[i + 4]))\n",
    "    #print(total)\n",
    "    print(avg)\n",
    "    print(minval)\n",
    "    print(maxval)\n",
    "results.close()\n",
    "[6.64758662311138, 26.490151770146987, 29.24625480086256, 11.685116633973482, 0.0, 17.67125281485303, 5.876021353519585, 5.809095280453898, 5.98613618087955, 5.876021353519585, 5.876021532915596]\n",
    "[0, 4, 0, 0, 0, 1, 0, 0, 1, 0, 0, 1000, 1000]\n",
    "[43, 72, 60, 24, 0, 44, 12, 12, 20, 12, 12]"
   ]
  },
  {
   "cell_type": "code",
   "execution_count": null,
   "metadata": {},
   "outputs": [],
   "source": []
  }
 ]
}